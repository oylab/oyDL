{
 "cells": [
  {
   "cell_type": "code",
   "execution_count": 1,
   "id": "7a6b227a",
   "metadata": {
    "collapsed": true
   },
   "outputs": [],
   "source": [
    "%load_ext autoreload\n",
    "%autoreload 2\n",
    "%gui qt\n",
    "%matplotlib qt\n",
    "\n",
    "import sys\n",
    "\n",
    "import numpy as np\n",
    "import matplotlib.pyplot as plt\n",
    "import torch\n",
    "import oyDL\n",
    "\n",
    "device = torch.device(\"cuda:0\" if torch.cuda.is_available() else \"cpu\")"
   ]
  },
  {
   "cell_type": "markdown",
   "id": "e3023360",
   "metadata": {},
   "source": [
    "## Create train, test, and val datasets from directory"
   ]
  },
  {
   "cell_type": "code",
   "execution_count": 148,
   "id": "c6ae48a8",
   "metadata": {},
   "outputs": [],
   "source": [
    "from oyDL import trainset\n",
    "data_dir_train = ['/bigstore/Microscopy Core/Jen/20220104_DICCytotoxDrugsTL/predeathzoom/necro/*',\n",
    "                  '/bigstore/Microscopy Core/Jen/20220104_DICCytotoxDrugsTL/predeathzoom/apo/*',\n",
    "                  '/bigstore/Microscopy Core/Jen/20220104_DICCytotoxDrugsTL/predeathzoom/pyro/*',\n",
    "                ]\n",
    "\n",
    "dataloaders, dataloader_full, dataset_sizes, class_names = trainset(data_dir_train)"
   ]
  },
  {
   "cell_type": "markdown",
   "id": "9e4e8d75",
   "metadata": {},
   "source": [
    "### Look at some images"
   ]
  },
  {
   "cell_type": "code",
   "execution_count": 3,
   "id": "9edf3a9c",
   "metadata": {},
   "outputs": [],
   "source": [
    "import torchvision\n",
    "\n",
    "# Get a batch of training data\n",
    "inputs, classes, labels = next(iter(dataloaders['train']))\n",
    "\n",
    "# Make a grid from batch\n",
    "out = torchvision.utils.make_grid(inputs,normalize=True)\n",
    "\n",
    "oyDL.imshow(out, title=[class_names[x] for x in classes])"
   ]
  },
  {
   "cell_type": "markdown",
   "id": "d7824c50",
   "metadata": {},
   "source": [
    "### Load pretrained resnet model from web"
   ]
  },
  {
   "cell_type": "code",
   "execution_count": 149,
   "id": "a5de7ad8",
   "metadata": {},
   "outputs": [],
   "source": [
    "from oyDL import ResNet\n",
    "import torch.nn as nn\n",
    "import torch.optim as optim\n",
    "from torch.optim import lr_scheduler\n",
    "\n",
    "Res = ResNet(network='resnet50', pretrained=True,inchans=1, device=device)\n",
    "\n",
    "#should all the layers aside from fc be frozen?\n",
    "freezeflag = 0\n",
    "if freezeflag:\n",
    "    for param in Res.model.parameters():\n",
    "        param.requires_grad = False\n",
    "\n",
    "# Add fc layer with len(class_names) features. This is the only layer that will be trained if freezeflag==1\n",
    "Res.model.fc = nn.Linear(Res.model.fc.in_features, len(class_names))\n",
    "\n"
   ]
  },
  {
   "cell_type": "code",
   "execution_count": 150,
   "id": "89f2ef7b",
   "metadata": {},
   "outputs": [
    {
     "name": "stdout",
     "output_type": "stream",
     "text": [
      "Epoch 0/24\n",
      "----------\n",
      "train Loss: 0.8587 Acc: 0.6118\n",
      "val Loss: 0.8631 Acc: 0.6585\n",
      "\n",
      "Epoch 1/24\n",
      "----------\n",
      "train Loss: 0.5740 Acc: 0.7636\n",
      "val Loss: 0.5885 Acc: 0.7817\n",
      "\n",
      "Epoch 2/24\n",
      "----------\n",
      "train Loss: 0.4872 Acc: 0.8051\n",
      "val Loss: 0.7794 Acc: 0.6796\n",
      "\n",
      "Epoch 3/24\n",
      "----------\n",
      "train Loss: 0.4106 Acc: 0.8421\n",
      "val Loss: 0.9533 Acc: 0.6127\n",
      "\n",
      "Epoch 4/24\n",
      "----------\n",
      "train Loss: 0.3735 Acc: 0.8565\n",
      "val Loss: 0.6626 Acc: 0.7500\n",
      "\n",
      "Epoch 5/24\n",
      "----------\n",
      "train Loss: 0.2784 Acc: 0.8973\n",
      "val Loss: 0.5020 Acc: 0.8063\n",
      "\n",
      "Epoch 6/24\n",
      "----------\n",
      "train Loss: 0.2006 Acc: 0.9313\n",
      "val Loss: 0.8412 Acc: 0.6620\n",
      "\n",
      "Epoch 7/24\n",
      "----------\n",
      "train Loss: 0.1758 Acc: 0.9381\n",
      "val Loss: 0.8555 Acc: 0.6620\n",
      "\n",
      "Epoch 8/24\n",
      "----------\n",
      "train Loss: 0.1821 Acc: 0.9305\n",
      "val Loss: 0.7796 Acc: 0.7359\n",
      "\n",
      "Epoch 9/24\n",
      "----------\n",
      "train Loss: 0.1713 Acc: 0.9449\n",
      "val Loss: 0.5787 Acc: 0.7746\n",
      "\n",
      "Epoch 10/24\n",
      "----------\n",
      "train Loss: 0.1638 Acc: 0.9479\n",
      "val Loss: 0.6521 Acc: 0.7324\n",
      "\n",
      "Epoch 11/24\n",
      "----------\n",
      "train Loss: 0.1670 Acc: 0.9396\n",
      "val Loss: 0.5768 Acc: 0.7958\n",
      "\n",
      "Epoch 12/24\n",
      "----------\n",
      "train Loss: 0.1691 Acc: 0.9426\n",
      "val Loss: 0.7142 Acc: 0.7218\n",
      "\n",
      "Epoch 13/24\n",
      "----------\n",
      "train Loss: 0.1566 Acc: 0.9494\n",
      "val Loss: 0.7409 Acc: 0.7324\n",
      "\n",
      "Epoch 14/24\n",
      "----------\n",
      "train Loss: 0.1630 Acc: 0.9396\n",
      "val Loss: 1.0293 Acc: 0.6655\n",
      "\n",
      "Epoch 15/24\n",
      "----------\n",
      "train Loss: 0.1307 Acc: 0.9554\n",
      "val Loss: 0.5459 Acc: 0.7676\n",
      "\n",
      "Epoch 16/24\n",
      "----------\n",
      "train Loss: 0.1254 Acc: 0.9577\n",
      "val Loss: 0.6530 Acc: 0.7359\n",
      "\n",
      "Epoch 17/24\n",
      "----------\n",
      "train Loss: 0.1368 Acc: 0.9547\n",
      "val Loss: 0.6195 Acc: 0.7641\n",
      "\n",
      "Epoch 18/24\n",
      "----------\n",
      "train Loss: 0.1340 Acc: 0.9532\n",
      "val Loss: 0.9108 Acc: 0.6866\n",
      "\n",
      "Epoch 19/24\n",
      "----------\n",
      "train Loss: 0.1570 Acc: 0.9441\n",
      "val Loss: 0.6537 Acc: 0.7711\n",
      "\n",
      "Epoch 20/24\n",
      "----------\n",
      "train Loss: 0.1462 Acc: 0.9562\n",
      "val Loss: 0.6940 Acc: 0.7570\n",
      "\n",
      "Epoch 21/24\n",
      "----------\n",
      "train Loss: 0.1542 Acc: 0.9411\n",
      "val Loss: 0.7340 Acc: 0.7148\n",
      "\n",
      "Epoch 22/24\n",
      "----------\n",
      "train Loss: 0.1554 Acc: 0.9403\n",
      "val Loss: 0.7744 Acc: 0.7148\n",
      "\n",
      "Epoch 23/24\n",
      "----------\n",
      "train Loss: 0.1253 Acc: 0.9569\n",
      "val Loss: 0.5649 Acc: 0.7852\n",
      "\n",
      "Epoch 24/24\n",
      "----------\n",
      "train Loss: 0.1316 Acc: 0.9554\n",
      "val Loss: 0.6839 Acc: 0.7535\n",
      "\n",
      "Training complete in 1m 27s\n",
      "Best val Acc: 0.806338\n"
     ]
    }
   ],
   "source": [
    "model_ft = Res.train_model(dataloaders, num_epochs=25)"
   ]
  },
  {
   "cell_type": "markdown",
   "id": "e98dbc6d",
   "metadata": {},
   "source": [
    "## You can save your model"
   ]
  },
  {
   "cell_type": "code",
   "execution_count": 137,
   "id": "93cb7742",
   "metadata": {},
   "outputs": [
    {
     "name": "stdout",
     "output_type": "stream",
     "text": [
      "saved model\n"
     ]
    }
   ],
   "source": [
    "fname = '/bigstore/Microscopy Core/Jen/20220104_DICCytotoxDrugsTL/trained_resnet_celldeath.res'\n",
    "Res.save(filename=fname)"
   ]
  },
  {
   "cell_type": "markdown",
   "id": "8fcfcce7",
   "metadata": {},
   "source": [
    "## And load your model"
   ]
  },
  {
   "cell_type": "code",
   "execution_count": 146,
   "id": "25b8e7d6",
   "metadata": {},
   "outputs": [
    {
     "name": "stdout",
     "output_type": "stream",
     "text": [
      "loaded model\n"
     ]
    }
   ],
   "source": [
    "from oyDL import ResNet\n",
    "fname = '/bigstore/Microscopy Core/Jen/20220104_DICCytotoxDrugsTL/trained_resnet_celldeath.res'\n",
    "Res2 = ResNet(device=device, filename=fname)"
   ]
  },
  {
   "cell_type": "markdown",
   "id": "fa30543f",
   "metadata": {},
   "source": [
    "## Another way to load"
   ]
  },
  {
   "cell_type": "code",
   "execution_count": null,
   "id": "6a1dfb26",
   "metadata": {},
   "outputs": [],
   "source": [
    "from oyDL import ResNet\n",
    "fname = '/bigstore/Microscopy Core/Jen/20220104_DICCytotoxDrugsTL/trained_resnet_celldeath.res'\n",
    "Res2 = ResNet.load(fname)"
   ]
  },
  {
   "cell_type": "markdown",
   "id": "967b2c5c",
   "metadata": {},
   "source": [
    "# Do some plotting"
   ]
  },
  {
   "cell_type": "markdown",
   "id": "acbd8de1",
   "metadata": {},
   "source": [
    "#### logit scores in 2D"
   ]
  },
  {
   "cell_type": "code",
   "execution_count": 151,
   "id": "a60546a4",
   "metadata": {},
   "outputs": [
    {
     "data": {
      "text/plain": [
       "Text(0, 0.5, 'necro')"
      ]
     },
     "execution_count": 151,
     "metadata": {},
     "output_type": "execute_result"
    }
   ],
   "source": [
    "outcp ,labels= Res.get_logits_and_labels(dataloaders['train'])\n",
    "\n",
    "fig = plt.figure()\n",
    "ax=fig.add_subplot(111)\n",
    "\n",
    "ax.scatter(outcp[:,0],outcp[:,1],c=labels, alpha=0.2)\n",
    "plt.xlabel(class_names[0])\n",
    "plt.ylabel(class_names[1])"
   ]
  },
  {
   "cell_type": "markdown",
   "id": "a3c82991",
   "metadata": {},
   "source": [
    "#### logit scores in 3D"
   ]
  },
  {
   "cell_type": "code",
   "execution_count": 122,
   "id": "5a3e2c59",
   "metadata": {
    "scrolled": false
   },
   "outputs": [
    {
     "data": {
      "text/plain": [
       "Text(0.5, 0.5, 'necro')"
      ]
     },
     "execution_count": 122,
     "metadata": {},
     "output_type": "execute_result"
    }
   ],
   "source": [
    "from mpl_toolkits.mplot3d import Axes3D\n",
    "outcp ,labelsssss= Res.get_logits_and_labels(dataloaders['test'])\n",
    "\n",
    "fig = plt.figure()\n",
    "ax=fig.add_subplot(111,projection='3d')\n",
    "ax.scatter(outcp[:,0],outcp[:,1], outcp[:,2],c=labelsssss, alpha=0.2)\n",
    "plt.xlabel(class_names[0])\n",
    "plt.ylabel(class_names[1])\n"
   ]
  },
  {
   "cell_type": "markdown",
   "id": "d720d0b1",
   "metadata": {},
   "source": [
    "# Check accuracy"
   ]
  },
  {
   "cell_type": "code",
   "execution_count": 152,
   "id": "32e34231",
   "metadata": {},
   "outputs": [
    {
     "name": "stdout",
     "output_type": "stream",
     "text": [
      "['apo', 'necro', 'pyro']\n",
      "[0.31690141 0.25704225 0.42605634]\n",
      "[0.31338028 0.30985915 0.37676056]\n"
     ]
    }
   ],
   "source": [
    "predicts, labels = Res.get_predicts_and_labels(dataloaders['test'])\n",
    "print(class_names)\n",
    "print(np.sum(np.column_stack((predicts==0, predicts==1,predicts==2)), axis=0)/len(predicts))\n",
    "print(np.sum(np.column_stack((labels==0, labels==1,labels==2)), axis=0)/len(labels))\n"
   ]
  },
  {
   "cell_type": "markdown",
   "id": "f88693be",
   "metadata": {},
   "source": [
    "# confusion matrix"
   ]
  },
  {
   "cell_type": "code",
   "execution_count": 153,
   "id": "528c6363",
   "metadata": {},
   "outputs": [],
   "source": [
    "Res.ConfusionMatrix(dataloaders['val'])"
   ]
  },
  {
   "cell_type": "code",
   "execution_count": 154,
   "id": "df49537f",
   "metadata": {},
   "outputs": [],
   "source": [
    "plt.close('all')"
   ]
  },
  {
   "cell_type": "markdown",
   "id": "0bc6b7ef",
   "metadata": {},
   "source": [
    "# Classification report"
   ]
  },
  {
   "cell_type": "code",
   "execution_count": 36,
   "id": "6f8623da",
   "metadata": {},
   "outputs": [
    {
     "name": "stdout",
     "output_type": "stream",
     "text": [
      "              precision    recall  f1-score   support\n",
      "\n",
      "         apo       0.90      0.77      0.83       105\n",
      "       necro       0.76      0.83      0.79       109\n",
      "        pyro       0.76      0.80      0.78        70\n",
      "\n",
      "    accuracy                           0.80       284\n",
      "   macro avg       0.81      0.80      0.80       284\n",
      "weighted avg       0.81      0.80      0.80       284\n",
      "\n"
     ]
    }
   ],
   "source": [
    "Res.classification_report(dataloaders['test'])"
   ]
  },
  {
   "cell_type": "markdown",
   "id": "abb62514",
   "metadata": {},
   "source": [
    "### UMAP embedding of final logit layer"
   ]
  },
  {
   "cell_type": "code",
   "execution_count": 154,
   "id": "00b5fb12",
   "metadata": {},
   "outputs": [
    {
     "name": "stdout",
     "output_type": "stream",
     "text": [
      "avgpool torch.Size([1892, 2048, 1, 1])\n"
     ]
    }
   ],
   "source": [
    "activations, labels = Res.getActivationsByType(dataloader_full)\n",
    "\n",
    "a = np.squeeze(np.array(activations['avgpool'].cpu()))\n",
    "\n",
    "import umap\n",
    "\n",
    "umapfit = umap.UMAP(n_neighbors=20,\n",
    "                      min_dist=0.05,\n",
    "                      metric='euclidean').fit(a)\n",
    "\n",
    "embedding = umapfit.embedding_\n",
    "\n",
    "fig, ax = plt.subplots()\n",
    "\n",
    "lbls = np.unique(labels)\n",
    "\n",
    "scatter = ax.scatter(embedding[:,0],embedding[:,1],c=labels, alpha=0.1)\n",
    "\n",
    "tmp = list(scatter.legend_elements())\n",
    "tmp[1]=class_names \n",
    "tmp = tuple(tmp)\n",
    "\n",
    "legend1 = ax.legend(*tmp,\n",
    "                    loc=\"lower left\", title=\"Classes\")\n",
    "ax.add_artist(legend1)\n",
    "\n",
    "plt.xlabel('UMAP1')\n",
    "plt.ylabel('UMAP2')\n",
    "\n",
    "plt.show()"
   ]
  },
  {
   "cell_type": "markdown",
   "id": "81656863",
   "metadata": {},
   "source": [
    "#### Zoom onto specific populations if desired"
   ]
  },
  {
   "cell_type": "code",
   "execution_count": 156,
   "id": "a2e036b1",
   "metadata": {},
   "outputs": [],
   "source": [
    "from oyDL import InAxes, imshow\n",
    "from torch.utils.data import Subset, DataLoader\n",
    "weirdDataSet = Subset(dataloader_full.dataset,indices=InAxes(ax))\n",
    "weirddataloaders = DataLoader(weirdDataSet, batch_size=24,shuffle=True, num_workers=8)\n",
    "\n",
    "fig = plt.figure()\n",
    "\n",
    "# Get a batch of training data\n",
    "inputs, classes, labels = next(iter(weirddataloaders))\n",
    "\n",
    "# Make a grid from batch\n",
    "out = torchvision.utils.make_grid(inputs,normalize=True)\n",
    "\n",
    "imshow(out, title=[class_names[x] for x in classes])"
   ]
  },
  {
   "cell_type": "markdown",
   "id": "ab808252",
   "metadata": {},
   "source": [
    "# Make dataset of virus infected cells"
   ]
  },
  {
   "cell_type": "code",
   "execution_count": 160,
   "id": "4517487d",
   "metadata": {},
   "outputs": [],
   "source": [
    "from oyDL import PathDataset\n",
    "\n",
    "data_dir_hsv1 = ['/bigstore/Microscopy Core/Jen/20220104_DICCytotoxDrugsTL/predeathzoom/tnf/*',\n",
    "                ]\n",
    "dataset_hsv = PathDataset(data_dir_hsv1)\n",
    "\n",
    "dataloader_hsv = torch.utils.data.DataLoader(dataset_hsv, batch_size=64,\n",
    "                                              shuffle=False, num_workers=8)\n"
   ]
  },
  {
   "cell_type": "code",
   "execution_count": 161,
   "id": "d99c1b7e",
   "metadata": {},
   "outputs": [
    {
     "data": {
      "text/plain": [
       "Dataset PathDataset\n",
       "    Number of datapoints: 559\n",
       "    Root location: ['/bigstore/Microscopy Core/Jen/20220104_DICCytotoxDrugsTL/predeathzoom/tnf/*']"
      ]
     },
     "execution_count": 161,
     "metadata": {},
     "output_type": "execute_result"
    }
   ],
   "source": [
    "dataloader_hsv.dataset"
   ]
  },
  {
   "cell_type": "markdown",
   "id": "1fd126fe",
   "metadata": {},
   "source": [
    "# Show some images"
   ]
  },
  {
   "cell_type": "code",
   "execution_count": 162,
   "id": "4088d32e",
   "metadata": {},
   "outputs": [],
   "source": [
    "from oyDL import imshow\n",
    "fig = plt.figure()\n",
    "\n",
    "# Get a batch of training data\n",
    "inputs, classes,_ = next(iter(dataloader_hsv))\n",
    "\n",
    "# Make a grid from batch\n",
    "out = torchvision.utils.make_grid(inputs,normalize=True)\n",
    "\n",
    "imshow(out)"
   ]
  },
  {
   "cell_type": "markdown",
   "id": "f38731a8",
   "metadata": {},
   "source": [
    "# scatter output neurons compared to labeled"
   ]
  },
  {
   "cell_type": "code",
   "execution_count": 23,
   "id": "51d388b9",
   "metadata": {},
   "outputs": [
    {
     "data": {
      "text/plain": [
       "Text(0, 0.5, 'necro')"
      ]
     },
     "execution_count": 23,
     "metadata": {},
     "output_type": "execute_result"
    }
   ],
   "source": [
    "fig = plt.figure()\n",
    "ax=fig.add_subplot(111)\n",
    "outcp ,labelsssss= Res.get_logits_and_labels(dataloaders['test'])\n",
    "\n",
    "ax.scatter(outcp[:,0],outcp[:,1],c=labelsssss, alpha=0.2)\n",
    "plt.xlabel(class_names[0])\n",
    "plt.ylabel(class_names[1])\n",
    "\n",
    "outcp ,_= Res.get_logits_and_labels(dataloader_hsv)\n",
    "\n",
    "ax.scatter(outcp[:,0],outcp[:,1],c='r', alpha=0.2)\n",
    "plt.xlabel(class_names[0])\n",
    "plt.ylabel(class_names[1])"
   ]
  },
  {
   "cell_type": "markdown",
   "id": "a7a341f3",
   "metadata": {},
   "source": [
    "### You can zoom into a region and peek at some images"
   ]
  },
  {
   "cell_type": "code",
   "execution_count": 35,
   "id": "0ba9ea81",
   "metadata": {},
   "outputs": [],
   "source": [
    "from oyDL import InAxes\n",
    "\n",
    "weirdDataSet = Subset(dataloader_hsv.dataset,indices=InAxes(ax))\n",
    "weirddataloaders = torch.utils.data.DataLoader(weirdDataSet, batch_size=16,\n",
    "                                             shuffle=True, num_workers=8)\n",
    "\n",
    "fig = plt.figure()\n",
    "\n",
    "\n",
    "# Get a batch of data\n",
    "inputs, classes, labels = next(iter(weirddataloaders))\n",
    "\n",
    "# Make a grid from batch\n",
    "out = torchvision.utils.make_grid(inputs,normalize=True)\n",
    "\n",
    "imshow(out, title=[class_names[x] for x in classes])"
   ]
  },
  {
   "cell_type": "markdown",
   "id": "64726a87",
   "metadata": {},
   "source": [
    "# scatter plot softmax"
   ]
  },
  {
   "cell_type": "code",
   "execution_count": 24,
   "id": "35735879",
   "metadata": {},
   "outputs": [
    {
     "data": {
      "text/plain": [
       "Text(0, 0.5, 'necro')"
      ]
     },
     "execution_count": 24,
     "metadata": {},
     "output_type": "execute_result"
    }
   ],
   "source": [
    "fig = plt.figure()\n",
    "ax=fig.add_subplot(111)\n",
    "outcp ,labelsssss= Res.get_softmax_and_labels(dataloaders['test'])\n",
    "\n",
    "ax.scatter(outcp[:,0],outcp[:,1],c=labelsssss, alpha=0.2)\n",
    "plt.xlabel(class_names[0])\n",
    "plt.ylabel(class_names[1])\n",
    "\n",
    "outcp ,_= Res.get_softmax_and_labels(dataloader_hsv)\n",
    "\n",
    "ax.scatter(outcp[:,0],outcp[:,1],c='r', alpha=0.2)\n",
    "plt.xlabel(class_names[0])\n",
    "plt.ylabel(class_names[1])\n"
   ]
  },
  {
   "cell_type": "code",
   "execution_count": 163,
   "id": "d34bab07",
   "metadata": {},
   "outputs": [],
   "source": [
    "plt.close('all')"
   ]
  },
  {
   "cell_type": "markdown",
   "id": "0c5fa92e",
   "metadata": {},
   "source": [
    "## Predict labels for HSV group"
   ]
  },
  {
   "cell_type": "code",
   "execution_count": 164,
   "id": "24ab71d3",
   "metadata": {
    "scrolled": true
   },
   "outputs": [
    {
     "name": "stdout",
     "output_type": "stream",
     "text": [
      "['apo', 'necro', 'pyro']\n",
      "[0.20214669 0.48658318 0.31127013]\n"
     ]
    }
   ],
   "source": [
    "predicts, _ = Res.get_predicts_and_labels(dataloader_hsv)\n",
    "predicts = np.array(predicts)\n",
    "print(class_names)\n",
    "print(np.sum(np.column_stack((predicts==0, predicts==1,predicts==2)), axis=0)/len(predicts))\n"
   ]
  },
  {
   "cell_type": "code",
   "execution_count": 14,
   "id": "89269900",
   "metadata": {},
   "outputs": [],
   "source": [
    "Res.visualize_model(loader=dataloader_hsv)"
   ]
  },
  {
   "cell_type": "code",
   "execution_count": 166,
   "id": "a6105767",
   "metadata": {},
   "outputs": [],
   "source": [
    "fig = plt.figure()\n",
    "ax=fig.add_subplot(111)\n",
    "m = nn.Softmax(dim=1)\n",
    "cls=0\n",
    "\n",
    "outcps,_= Res.get_logits_and_labels(dataloaders['test'])\n",
    "h1 = ax.hist(outcps[:,cls],100)\n",
    "outcps,_ = Res.get_logits_and_labels(dataloader_hsv)\n",
    "h2=ax.hist(outcps[:,cls],100)\n"
   ]
  },
  {
   "cell_type": "markdown",
   "id": "67a06c1f",
   "metadata": {},
   "source": [
    "# Compare prototype UMAP to new samples"
   ]
  },
  {
   "cell_type": "code",
   "execution_count": 18,
   "id": "73a64117",
   "metadata": {},
   "outputs": [
    {
     "name": "stdout",
     "output_type": "stream",
     "text": [
      "avgpool torch.Size([1892, 2048, 1, 1])\n",
      "avgpool torch.Size([559, 2048, 1, 1])\n"
     ]
    }
   ],
   "source": [
    "activations, labelsssss = Res.getActivationsByType(dataloader_full)\n",
    "\n",
    "a = np.squeeze(np.array(activations['avgpool'].cpu()))\n",
    "\n",
    "\n",
    "import umap\n",
    "\n",
    "umapfit = umap.UMAP(n_neighbors=20,\n",
    "                      min_dist=0.05,\n",
    "                      metric='euclidean').fit(a)\n",
    "\n",
    "embedding = umapfit.embedding_\n",
    "\n",
    "fig, ax = plt.subplots()\n",
    "\n",
    "lbls = np.unique(labels)\n",
    "\n",
    "#y = [il for l in labels for il, L in enumerate(lbls) if l==L]\n",
    "scatter = ax.scatter(embedding[:,0],embedding[:,1],c=labelsssss, alpha=0.1)\n",
    "\n",
    "tmp = list(scatter.legend_elements())\n",
    "tmp[1]=class_names #+ ['hsv']\n",
    "tmp = tuple(tmp)\n",
    "\n",
    "legend1 = ax.legend(*tmp,\n",
    "                    loc=\"lower left\", title=\"Classes\")\n",
    "ax.add_artist(legend1)\n",
    "\n",
    "activations, labelsssss = Res.getActivationsByType(dataloader_hsv)\n",
    "a = np.squeeze(np.array(activations['avgpool'].cpu()))\n",
    "\n",
    "embedding = umapfit.transform(a)\n",
    "lbls = np.unique(labels)\n",
    "\n",
    "#y = [il for l in labels for il, L in enumerate(lbls) if l==L]\n",
    "scatter = ax.scatter(embedding[:,0],embedding[:,1],c='r')\n",
    "\n",
    "plt.show()"
   ]
  },
  {
   "cell_type": "markdown",
   "id": "e2edc31f",
   "metadata": {},
   "source": [
    "### zoom into specific regions if desired"
   ]
  },
  {
   "cell_type": "code",
   "execution_count": 99,
   "id": "5bd71367",
   "metadata": {},
   "outputs": [],
   "source": [
    "from oyDL import InAxes\n",
    "\n",
    "#indicesThatAreWeird = [dataloader_full.dataset.indices[i] for i in InAxes()]\n",
    "weirdDataSet = Subset(dataloader_hsv.dataset,indices=InAxes(ax))\n",
    "weirddataloaders = torch.utils.data.DataLoader(weirdDataSet, batch_size=24,\n",
    "                                             shuffle=True, num_workers=8)\n",
    "\n",
    "fig = plt.figure()\n",
    "\n",
    "# Get a batch of training data\n",
    "inputs, classes, labels = next(iter(weirddataloaders))\n",
    "\n",
    "# Make a grid from batch\n",
    "out = torchvision.utils.make_grid(inputs,normalize=True)\n",
    "\n",
    "imshow(out, title=[class_names[x] for x in classes])"
   ]
  },
  {
   "cell_type": "markdown",
   "id": "9f9bba96",
   "metadata": {},
   "source": [
    "# 3D HERE!"
   ]
  },
  {
   "cell_type": "code",
   "execution_count": 82,
   "id": "735b0d46",
   "metadata": {},
   "outputs": [
    {
     "name": "stdout",
     "output_type": "stream",
     "text": [
      "avgpool torch.Size([1892, 2048, 1, 1])\n",
      "avgpool torch.Size([85, 2048, 1, 1])\n"
     ]
    }
   ],
   "source": [
    "activations, labelsssss = Res.getActivationsByType(dataloader_full)\n",
    "\n",
    "a = np.squeeze(np.array(activations['avgpool'].cpu()))\n",
    "\n",
    "\n",
    "import umap\n",
    "\n",
    "umapfit = umap.UMAP(n_components=3, n_neighbors=20,\n",
    "                      min_dist=0.1,\n",
    "                      metric='euclidean').fit(a)\n",
    "\n",
    "embedding = umapfit.embedding_\n",
    "\n",
    "fig = plt.figure()\n",
    "ax=fig.add_subplot(111,projection='3d')\n",
    "\n",
    "lbls = np.unique(labels)\n",
    "\n",
    "scatter = ax.scatter(embedding[:,0],embedding[:,1], embedding[:,2],c=labelsssss, alpha=0.1)\n",
    "\n",
    "tmp = list(scatter.legend_elements())\n",
    "tmp[1]=class_names# + ['hsv']\n",
    "tmp = tuple(tmp)\n",
    "\n",
    "legend1 = ax.legend(*tmp,\n",
    "                    loc=\"lower left\", title=\"Classes\")\n",
    "ax.add_artist(legend1)\n",
    "\n",
    "activations, labelsssss = Res.getActivationsByType(dataloader_hsv)\n",
    "\n",
    "a = np.squeeze(np.array(activations['avgpool'].cpu()))\n",
    "\n",
    "embedding = umapfit.transform(a)\n",
    "lbls = np.unique(labels)\n",
    "scatter = ax.scatter(embedding[:,0],embedding[:,1], embedding[:,2],c='r')\n",
    "\n",
    "plt.show()"
   ]
  }
 ],
 "metadata": {
  "kernelspec": {
   "display_name": "oyDL",
   "language": "python",
   "name": "oydl"
  },
  "language_info": {
   "codemirror_mode": {
    "name": "ipython",
    "version": 3
   },
   "file_extension": ".py",
   "mimetype": "text/x-python",
   "name": "python",
   "nbconvert_exporter": "python",
   "pygments_lexer": "ipython3",
   "version": "3.8.13"
  }
 },
 "nbformat": 4,
 "nbformat_minor": 5
}
